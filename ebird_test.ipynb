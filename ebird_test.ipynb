{
 "cells": [
  {
   "cell_type": "code",
   "execution_count": 12,
   "id": "micro-laser",
   "metadata": {},
   "outputs": [
    {
     "data": {
      "text/plain": [
       "'https://api.ebird.org/v2/data/nearest/geo/recent/evegro?lat=38.90&lng=-77.07&back=2&includeProvisional=true&maxResults=50'"
      ]
     },
     "execution_count": 12,
     "metadata": {},
     "output_type": "execute_result"
    }
   ],
   "source": [
    "import json\n",
    "with open('ebird_config.json') as f:\n",
    "    data = json.load(f)\n",
    "    recent_species_observations = data['recent_species_observations']\n",
    "    ebird_token = data['ebird_token']\n",
    "    gmap_api_key = data['gmap_api_key']\n",
    "# recent_species_observations"
   ]
  },
  {
   "cell_type": "code",
   "execution_count": 13,
   "id": "future-ministry",
   "metadata": {},
   "outputs": [],
   "source": [
    "import requests\n",
    "headers = {}\n",
    "headers['X-eBirdApiToken'] = ebird_token\n",
    "response = requests.get(recent_species_observations, headers=headers)\n",
    "res_json = response.json()"
   ]
  },
  {
   "cell_type": "code",
   "execution_count": 17,
   "id": "dirty-enforcement",
   "metadata": {},
   "outputs": [],
   "source": [
    "# res_json"
   ]
  },
  {
   "cell_type": "code",
   "execution_count": 18,
   "id": "fatty-celebration",
   "metadata": {},
   "outputs": [],
   "source": [
    "sightings = list()\n",
    "for sighting in res_json:\n",
    "    sightings.append((sighting['lat'], sighting['lng']))"
   ]
  },
  {
   "cell_type": "code",
   "execution_count": 16,
   "id": "center-dietary",
   "metadata": {},
   "outputs": [
    {
     "data": {
      "application/vnd.jupyter.widget-view+json": {
       "model_id": "a920957cf23c49fcb18b9cfbacea128b",
       "version_major": 2,
       "version_minor": 0
      },
      "text/plain": [
       "Figure(layout=FigureLayout(height='420px'))"
      ]
     },
     "metadata": {},
     "output_type": "display_data"
    }
   ],
   "source": [
    "import gmaps\n",
    "gmaps.configure(api_key=gmap_api_key)\n",
    "fig = gmaps.figure()\n",
    "sightings_layer = gmaps.symbol_layer(sightings)\n",
    "fig.add_layer(sightings_layer)\n",
    "fig"
   ]
  }
 ],
 "metadata": {
  "kernelspec": {
   "display_name": "Python 3",
   "language": "python",
   "name": "python3"
  },
  "language_info": {
   "codemirror_mode": {
    "name": "ipython",
    "version": 3
   },
   "file_extension": ".py",
   "mimetype": "text/x-python",
   "name": "python",
   "nbconvert_exporter": "python",
   "pygments_lexer": "ipython3",
   "version": "3.8.5"
  }
 },
 "nbformat": 4,
 "nbformat_minor": 5
}
