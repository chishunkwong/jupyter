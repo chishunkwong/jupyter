{
 "cells": [
  {
   "cell_type": "code",
   "execution_count": 92,
   "id": "micro-laser",
   "metadata": {},
   "outputs": [],
   "source": [
    "import json\n",
    "with open('ebird_config.json') as f:\n",
    "    data = json.load(f)\n",
    "    recent_species_observations = data['recent_species_observations']\n",
    "    ebird_token = data['ebird_token']\n",
    "    gmap_api_key = data['gmap_api_key']\n",
    "# recent_species_observations"
   ]
  },
  {
   "cell_type": "code",
   "execution_count": 93,
   "id": "future-ministry",
   "metadata": {},
   "outputs": [],
   "source": [
    "import requests\n",
    "headers = {}\n",
    "headers['X-eBirdApiToken'] = ebird_token\n",
    "response = requests.get(recent_species_observations, headers=headers)\n",
    "res_json = response.json()"
   ]
  },
  {
   "cell_type": "code",
   "execution_count": 94,
   "id": "dirty-enforcement",
   "metadata": {},
   "outputs": [],
   "source": [
    "# res_json"
   ]
  },
  {
   "cell_type": "code",
   "execution_count": 95,
   "id": "fatty-celebration",
   "metadata": {},
   "outputs": [],
   "source": [
    "import datetime as dt\n",
    "import collections as col\n",
    "DATE_FORMAT = '%Y-%m-%d %H:%M'\n",
    "Sighting = col.namedtuple('Sighting', ['lat', 'lng', 'date'])\n",
    "# 0-th is today, 1-st is yesterday, etc\n",
    "sightings = list()\n",
    "for sighting in res_json:\n",
    "    sightings.append(Sighting(lat=sighting['lat'], lng=sighting['lng'],\n",
    "                              date=dt.datetime.strptime(sighting['obsDt'], DATE_FORMAT)))\n",
    "today = dt.date.today()\n",
    "sightings_last_seven_days = list() # today is included\n",
    "for i in range(0, 7):\n",
    "    sightings_last_seven_days.append(\n",
    "        list(filter(lambda s: s.date.date() == today - dt.timedelta(days=i), sightings)))\n",
    "#sightings_last_seven_days"
   ]
  },
  {
   "cell_type": "code",
   "execution_count": 112,
   "id": "entire-attack",
   "metadata": {},
   "outputs": [],
   "source": [
    "layers = list()\n",
    "# the more red the color, the closer to today\n",
    "colors = list(['red', 'rgb(255, 165, 0)', 'yellow', 'green', 'blue', 'rgb(75, 0, 130)', 'rgb(238, 130, 238)'])\n",
    "for day_sightings in sightings_last_seven_days:\n",
    "    layers.append(list(map(lambda s: (s.lat, s.lng), day_sightings)))"
   ]
  },
  {
   "cell_type": "code",
   "execution_count": 124,
   "id": "center-dietary",
   "metadata": {},
   "outputs": [
    {
     "data": {
      "application/vnd.jupyter.widget-view+json": {
       "model_id": "14245a6c804b4acebb408fcedd77a3a6",
       "version_major": 2,
       "version_minor": 0
      },
      "text/plain": [
       "Figure(layout=FigureLayout(height='420px'))"
      ]
     },
     "metadata": {},
     "output_type": "display_data"
    }
   ],
   "source": [
    "import gmaps\n",
    "gmaps.configure(api_key=gmap_api_key)\n",
    "fig = gmaps.figure()\n",
    "def add_layer(lat_lng, color, scale):\n",
    "    layer = gmaps.symbol_layer(lat_lng, fill_color=color, stroke_color=color, scale=scale)\n",
    "    fig.add_layer(layer)\n",
    "# not counting today, used to further limit the 7 days to a smaller number of days, if desired\n",
    "DAYS_BACK = 3\n",
    "# add the layers backwards so today is on top, but it does not seem to work,\n",
    "# looks like there is no support for setting zIndex on a symbol (or symbols of a layer)\n",
    "for i in range(min(DAYS_BACK, 6), -1, -1):\n",
    "    add_layer(layers[i], colors[i], int((8-i)/2))\n",
    "fig"
   ]
  }
 ],
 "metadata": {
  "kernelspec": {
   "display_name": "Python 3",
   "language": "python",
   "name": "python3"
  },
  "language_info": {
   "codemirror_mode": {
    "name": "ipython",
    "version": 3
   },
   "file_extension": ".py",
   "mimetype": "text/x-python",
   "name": "python",
   "nbconvert_exporter": "python",
   "pygments_lexer": "ipython3",
   "version": "3.8.5"
  }
 },
 "nbformat": 4,
 "nbformat_minor": 5
}
