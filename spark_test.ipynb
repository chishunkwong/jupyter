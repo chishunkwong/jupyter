{
 "cells": [
  {
   "cell_type": "code",
   "execution_count": 2,
   "id": "threatened-circumstances",
   "metadata": {},
   "outputs": [],
   "source": [
    "import findspark\n",
    "findspark.init()"
   ]
  },
  {
   "cell_type": "code",
   "execution_count": 3,
   "id": "educational-experiment",
   "metadata": {},
   "outputs": [],
   "source": [
    "import pyspark\n",
    "from pyspark.sql import SparkSession\n",
    "from pyspark import SparkContext, SparkConf, SQLContext"
   ]
  },
  {
   "cell_type": "code",
   "execution_count": 4,
   "id": "polar-mileage",
   "metadata": {},
   "outputs": [],
   "source": [
    "import json\n",
    "with open('db_config.json') as f:\n",
    "    data = json.load(f)\n",
    "    url = data['url']\n",
    "    driver = data['driver']\n",
    "    username = data['username']\n",
    "    password = data['password']\n",
    "#driver"
   ]
  },
  {
   "cell_type": "code",
   "execution_count": 5,
   "id": "increased-anatomy",
   "metadata": {},
   "outputs": [],
   "source": [
    "conf = SparkConf().setAppName(\"my_app\")\n",
    "sc = SparkContext.getOrCreate(conf=conf)\n",
    "#sc"
   ]
  },
  {
   "cell_type": "code",
   "execution_count": 7,
   "id": "empirical-click",
   "metadata": {},
   "outputs": [
    {
     "name": "stdout",
     "output_type": "stream",
     "text": [
      "+--------------------+-----------+--------------------+\n",
      "|        meal_item_id|description|        portion_size|\n",
      "+--------------------+-----------+--------------------+\n",
      "|b97f4631-5c7a-481...|      bread|1.500000000000000000|\n",
      "+--------------------+-----------+--------------------+\n",
      "\n"
     ]
    }
   ],
   "source": [
    "sqlContext = SQLContext(sc)\n",
    "spark = sqlContext.sparkSession\n",
    "\n",
    "df = spark.read.format(\"jdbc\") \\\n",
    "    .option(\"url\", url) \\\n",
    "    .option(\"dbtable\", \"meal_item\") \\\n",
    "    .option(\"user\", username) \\\n",
    "    .option(\"password\", password) \\\n",
    "    .option(\"driver\", driver) \\\n",
    "    .load()\n",
    "            \n",
    "df.show()"
   ]
  },
  {
   "cell_type": "code",
   "execution_count": null,
   "id": "marine-nelson",
   "metadata": {},
   "outputs": [],
   "source": []
  }
 ],
 "metadata": {
  "kernelspec": {
   "display_name": "Python 3",
   "language": "python",
   "name": "python3"
  },
  "language_info": {
   "codemirror_mode": {
    "name": "ipython",
    "version": 3
   },
   "file_extension": ".py",
   "mimetype": "text/x-python",
   "name": "python",
   "nbconvert_exporter": "python",
   "pygments_lexer": "ipython3",
   "version": "3.8.5"
  }
 },
 "nbformat": 4,
 "nbformat_minor": 5
}
